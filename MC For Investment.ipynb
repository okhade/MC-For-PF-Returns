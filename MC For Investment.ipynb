{
 "cells": [
  {
   "cell_type": "code",
   "execution_count": 1,
   "metadata": {},
   "outputs": [],
   "source": [
    "import numpy as np\n",
    "from pandas import Series, DataFrame\n",
    "\n",
    "%matplotlib inline\n",
    "import matplotlib.pyplot as plots"
   ]
  },
  {
   "cell_type": "code",
   "execution_count": 17,
   "metadata": {},
   "outputs": [],
   "source": [
    "sim = DataFrame()\n",
    "iterations = 5000\n",
    "time_horizon = 10\n",
    "\n",
    "for x in range(iterations):\n",
    "    expected_return = .20\n",
    "    volatility = .15\n",
    "    time_horizon = 10\n",
    "    P = 1000000 \n",
    "    Annual_Addition = 500000\n",
    "    stream = []\n",
    "    for i in range(time_horizon):\n",
    "        end = round(P * (1 + np.random.normal(expected_return,volatility)) + Annual_Addition,2)\n",
    "        \n",
    "        stream.append(end)\n",
    "        P = end\n",
    "       \n",
    "    sim[x] = stream"
   ]
  },
  {
   "cell_type": "code",
   "execution_count": 18,
   "metadata": {},
   "outputs": [
    {
     "name": "stdout",
     "output_type": "stream",
     "text": [
      "Mean:  19287305.91062\n"
     ]
    }
   ],
   "source": [
    "# 7. Generate summary statistics with numpy functions\n",
    "\n",
    "Value = sim.loc[time_horizon-1]\n",
    "\n",
    "#print(\"Count:\", len(Value))\n",
    "print(\"Mean: \", np.mean(Value) ) \n",
    "#print(\"SD: \",np.std(Value) )\n",
    "#print(\"Max: \",np.max(Value) )\n",
    "#print(\"Min: \", np.min(Value) )"
   ]
  },
  {
   "cell_type": "code",
   "execution_count": 19,
   "metadata": {},
   "outputs": [],
   "source": [
    "# 8. Generating more comprehensive summary statistics with pandas describe function\n",
    "ending_values = Value"
   ]
  },
  {
   "cell_type": "code",
   "execution_count": 20,
   "metadata": {},
   "outputs": [
    {
     "data": {
      "image/png": "[encoded data removed]",
      "text/plain": [
       "<Figure size 504x360 with 1 Axes>"
      ]
     },
     "metadata": {
      "needs_background": "light"
     },
     "output_type": "display_data"
    }
   ],
   "source": [
    "# Creating dataset \n",
    "n_bins = 10\n",
    "\n",
    "plt = plots\n",
    " \n",
    "# Creating histogram \n",
    "fig, axs = plt.subplots(1, 1, figsize =(7, 5), tight_layout = True) \n",
    "  \n",
    "axs.hist(Value, bins = n_bins) \n",
    "  \n",
    "# Show plot \n",
    "plt.show()"
   ]
  },
  {
   "cell_type": "code",
   "execution_count": 21,
   "metadata": {},
   "outputs": [
    {
     "ename": "NameError",
     "evalue": "name 'sns' is not defined",
     "output_type": "error",
     "traceback": [
      "\u001b[1;31m---------------------------------------------------------------------------\u001b[0m",
      "\u001b[1;31mNameError\u001b[0m                                 Traceback (most recent call last)",
      "\u001b[1;32m<ipython-input-21-9f645e327abd>\u001b[0m in \u001b[0;36m<module>\u001b[1;34m\u001b[0m\n\u001b[1;32m----> 1\u001b[1;33m \u001b[0msns\u001b[0m\u001b[1;33m.\u001b[0m\u001b[0mdistplot\u001b[0m\u001b[1;33m(\u001b[0m\u001b[0mValue\u001b[0m\u001b[1;33m)\u001b[0m\u001b[1;33m\u001b[0m\u001b[1;33m\u001b[0m\u001b[0m\n\u001b[0m",
      "\u001b[1;31mNameError\u001b[0m: name 'sns' is not defined"
     ]
    }
   ],
   "source": [
    "sns.distplot(Value)"
   ]
  },
  {
   "cell_type": "code",
   "execution_count": null,
   "metadata": {},
   "outputs": [],
   "source": [
    "plots.plot(Value) \n",
    "plots.show()"
   ]
  },
  {
   "cell_type": "code",
   "execution_count": null,
   "metadata": {},
   "outputs": [],
   "source": [
    "ending_values.describe()"
   ]
  },
  {
   "cell_type": "code",
   "execution_count": 22,
   "metadata": {},
   "outputs": [
    {
     "data": {
      "text/html": [
       "<div>\n",
       "<style scoped>\n",
       "    .dataframe tbody tr th:only-of-type {\n",
       "        vertical-align: middle;\n",
       "    }\n",
       "\n",
       "    .dataframe tbody tr th {\n",
       "        vertical-align: top;\n",
       "    }\n",
       "\n",
       "    .dataframe thead th {\n",
       "        text-align: right;\n",
       "    }\n",
       "</style>\n",
       "<table border=\"1\" class=\"dataframe\">\n",
       "  <thead>\n",
       "    <tr style=\"text-align: right;\">\n",
       "      <th></th>\n",
       "      <th>0</th>\n",
       "      <th>1</th>\n",
       "      <th>2</th>\n",
       "      <th>3</th>\n",
       "      <th>4</th>\n",
       "      <th>5</th>\n",
       "      <th>6</th>\n",
       "      <th>7</th>\n",
       "      <th>8</th>\n",
       "      <th>9</th>\n",
       "    </tr>\n",
       "  </thead>\n",
       "  <tbody>\n",
       "    <tr>\n",
       "      <th>0</th>\n",
       "      <td>1503899.63</td>\n",
       "      <td>1612989.70</td>\n",
       "      <td>1860017.32</td>\n",
       "      <td>1873393.25</td>\n",
       "      <td>1778745.92</td>\n",
       "      <td>1656106.82</td>\n",
       "      <td>1609006.16</td>\n",
       "      <td>1787322.29</td>\n",
       "      <td>1541310.41</td>\n",
       "      <td>1796973.45</td>\n",
       "    </tr>\n",
       "    <tr>\n",
       "      <th>1</th>\n",
       "      <td>2520353.75</td>\n",
       "      <td>2294274.65</td>\n",
       "      <td>2653158.26</td>\n",
       "      <td>2679446.38</td>\n",
       "      <td>2492150.62</td>\n",
       "      <td>2490374.22</td>\n",
       "      <td>2666137.40</td>\n",
       "      <td>2748303.22</td>\n",
       "      <td>2244255.06</td>\n",
       "      <td>3270234.71</td>\n",
       "    </tr>\n",
       "    <tr>\n",
       "      <th>2</th>\n",
       "      <td>3640788.56</td>\n",
       "      <td>3244428.46</td>\n",
       "      <td>4101542.87</td>\n",
       "      <td>3555104.67</td>\n",
       "      <td>3222306.13</td>\n",
       "      <td>3299992.11</td>\n",
       "      <td>3698526.73</td>\n",
       "      <td>3671764.35</td>\n",
       "      <td>3071997.18</td>\n",
       "      <td>4055433.72</td>\n",
       "    </tr>\n",
       "    <tr>\n",
       "      <th>3</th>\n",
       "      <td>4829780.32</td>\n",
       "      <td>4006561.20</td>\n",
       "      <td>5897154.67</td>\n",
       "      <td>5344379.45</td>\n",
       "      <td>4450926.74</td>\n",
       "      <td>4441658.26</td>\n",
       "      <td>4888022.19</td>\n",
       "      <td>5215721.58</td>\n",
       "      <td>4112877.55</td>\n",
       "      <td>5090114.66</td>\n",
       "    </tr>\n",
       "    <tr>\n",
       "      <th>4</th>\n",
       "      <td>6360742.87</td>\n",
       "      <td>5277984.96</td>\n",
       "      <td>8640642.76</td>\n",
       "      <td>7198666.28</td>\n",
       "      <td>6504591.64</td>\n",
       "      <td>6744480.85</td>\n",
       "      <td>6875256.70</td>\n",
       "      <td>6436396.89</td>\n",
       "      <td>5280225.62</td>\n",
       "      <td>6289444.99</td>\n",
       "    </tr>\n",
       "    <tr>\n",
       "      <th>5</th>\n",
       "      <td>6895798.15</td>\n",
       "      <td>7361139.25</td>\n",
       "      <td>11943650.39</td>\n",
       "      <td>7396825.16</td>\n",
       "      <td>5576357.03</td>\n",
       "      <td>9462955.05</td>\n",
       "      <td>8155838.39</td>\n",
       "      <td>8314112.87</td>\n",
       "      <td>6991070.04</td>\n",
       "      <td>8540849.82</td>\n",
       "    </tr>\n",
       "    <tr>\n",
       "      <th>6</th>\n",
       "      <td>9580959.92</td>\n",
       "      <td>11504267.43</td>\n",
       "      <td>12066129.52</td>\n",
       "      <td>9931098.51</td>\n",
       "      <td>8974214.91</td>\n",
       "      <td>14271489.54</td>\n",
       "      <td>9370245.42</td>\n",
       "      <td>10201124.18</td>\n",
       "      <td>8245751.52</td>\n",
       "      <td>9863990.10</td>\n",
       "    </tr>\n",
       "    <tr>\n",
       "      <th>7</th>\n",
       "      <td>11217572.83</td>\n",
       "      <td>17155321.88</td>\n",
       "      <td>16286359.01</td>\n",
       "      <td>14811300.62</td>\n",
       "      <td>11252790.33</td>\n",
       "      <td>16466320.12</td>\n",
       "      <td>11337463.99</td>\n",
       "      <td>11931870.19</td>\n",
       "      <td>12284027.44</td>\n",
       "      <td>12150577.97</td>\n",
       "    </tr>\n",
       "    <tr>\n",
       "      <th>8</th>\n",
       "      <td>13523184.36</td>\n",
       "      <td>18660357.59</td>\n",
       "      <td>18547215.95</td>\n",
       "      <td>21421305.95</td>\n",
       "      <td>12074430.37</td>\n",
       "      <td>20943024.80</td>\n",
       "      <td>11877868.79</td>\n",
       "      <td>10575826.05</td>\n",
       "      <td>14323941.60</td>\n",
       "      <td>15654795.85</td>\n",
       "    </tr>\n",
       "    <tr>\n",
       "      <th>9</th>\n",
       "      <td>18783698.10</td>\n",
       "      <td>24168168.66</td>\n",
       "      <td>23401002.48</td>\n",
       "      <td>26090097.79</td>\n",
       "      <td>17990561.74</td>\n",
       "      <td>28566885.66</td>\n",
       "      <td>14066799.74</td>\n",
       "      <td>15530235.96</td>\n",
       "      <td>17180964.75</td>\n",
       "      <td>19505772.81</td>\n",
       "    </tr>\n",
       "  </tbody>\n",
       "</table>\n",
       "</div>"
      ],
      "text/plain": [
       "             0            1            2            3            4  \\\n",
       "0   1503899.63   1612989.70   1860017.32   1873393.25   1778745.92   \n",
       "1   2520353.75   2294274.65   2653158.26   2679446.38   2492150.62   \n",
       "2   3640788.56   3244428.46   4101542.87   3555104.67   3222306.13   \n",
       "3   4829780.32   4006561.20   5897154.67   5344379.45   4450926.74   \n",
       "4   6360742.87   5277984.96   8640642.76   7198666.28   6504591.64   \n",
       "5   6895798.15   7361139.25  11943650.39   7396825.16   5576357.03   \n",
       "6   9580959.92  11504267.43  12066129.52   9931098.51   8974214.91   \n",
       "7  11217572.83  17155321.88  16286359.01  14811300.62  11252790.33   \n",
       "8  13523184.36  18660357.59  18547215.95  21421305.95  12074430.37   \n",
       "9  18783698.10  24168168.66  23401002.48  26090097.79  17990561.74   \n",
       "\n",
       "             5            6            7            8            9  \n",
       "0   1656106.82   1609006.16   1787322.29   1541310.41   1796973.45  \n",
       "1   2490374.22   2666137.40   2748303.22   2244255.06   3270234.71  \n",
       "2   3299992.11   3698526.73   3671764.35   3071997.18   4055433.72  \n",
       "3   4441658.26   4888022.19   5215721.58   4112877.55   5090114.66  \n",
       "4   6744480.85   6875256.70   6436396.89   5280225.62   6289444.99  \n",
       "5   9462955.05   8155838.39   8314112.87   6991070.04   8540849.82  \n",
       "6  14271489.54   9370245.42  10201124.18   8245751.52   9863990.10  \n",
       "7  16466320.12  11337463.99  11931870.19  12284027.44  12150577.97  \n",
       "8  20943024.80  11877868.79  10575826.05  14323941.60  15654795.85  \n",
       "9  28566885.66  14066799.74  15530235.96  17180964.75  19505772.81  "
      ]
     },
     "execution_count": 22,
     "metadata": {},
     "output_type": "execute_result"
    }
   ],
   "source": [
    "# 5. Sample first five streams of annual ending values\n",
    "first_five = list(range(10))\n",
    "sim[first_five]"
   ]
  },
  {
   "cell_type": "code",
   "execution_count": 23,
   "metadata": {},
   "outputs": [
    {
     "data": {
      "text/plain": [
       "[<matplotlib.lines.Line2D at 0x1955bd9ea48>,\n",
       " <matplotlib.lines.Line2D at 0x1955bda4b88>,\n",
       " <matplotlib.lines.Line2D at 0x1955bda4d88>,\n",
       " <matplotlib.lines.Line2D at 0x1955bda4f48>,\n",
       " <matplotlib.lines.Line2D at 0x1955bdab148>,\n",
       " <matplotlib.lines.Line2D at 0x1955bdab388>,\n",
       " <matplotlib.lines.Line2D at 0x1955bdab548>,\n",
       " <matplotlib.lines.Line2D at 0x1955bdab708>,\n",
       " <matplotlib.lines.Line2D at 0x1955bda4fc8>,\n",
       " <matplotlib.lines.Line2D at 0x1955bdab348>,\n",
       " <matplotlib.lines.Line2D at 0x1955aae4988>,\n",
       " <matplotlib.lines.Line2D at 0x1955bdabe48>,\n",
       " <matplotlib.lines.Line2D at 0x1955bdabf08>,\n",
       " <matplotlib.lines.Line2D at 0x1955bdaf308>,\n",
       " <matplotlib.lines.Line2D at 0x1955bdaf548>,\n",
       " <matplotlib.lines.Line2D at 0x1955bdaf788>,\n",
       " <matplotlib.lines.Line2D at 0x1955bdaf9c8>,\n",
       " <matplotlib.lines.Line2D at 0x1955bdafc08>,\n",
       " <matplotlib.lines.Line2D at 0x1955bdafe48>,\n",
       " <matplotlib.lines.Line2D at 0x1955bdaff08>,\n",
       " <matplotlib.lines.Line2D at 0x1955bdb2308>,\n",
       " <matplotlib.lines.Line2D at 0x1955bdb2548>,\n",
       " <matplotlib.lines.Line2D at 0x1955bdb2788>,\n",
       " <matplotlib.lines.Line2D at 0x1955bdb29c8>,\n",
       " <matplotlib.lines.Line2D at 0x1955bdb2c08>,\n",
       " <matplotlib.lines.Line2D at 0x1955bdb2e48>,\n",
       " <matplotlib.lines.Line2D at 0x1955bdb2f08>,\n",
       " <matplotlib.lines.Line2D at 0x1955bdb5308>,\n",
       " <matplotlib.lines.Line2D at 0x1955bdb5548>,\n",
       " <matplotlib.lines.Line2D at 0x1955bdb5788>,\n",
       " <matplotlib.lines.Line2D at 0x1955bdb59c8>,\n",
       " <matplotlib.lines.Line2D at 0x1955bdb5c08>,\n",
       " <matplotlib.lines.Line2D at 0x1955bdb5e48>,\n",
       " <matplotlib.lines.Line2D at 0x1955bdb5f08>,\n",
       " <matplotlib.lines.Line2D at 0x1955bdb8308>,\n",
       " <matplotlib.lines.Line2D at 0x1955bdb8548>,\n",
       " <matplotlib.lines.Line2D at 0x1955bdb8788>,\n",
       " <matplotlib.lines.Line2D at 0x1955bdb89c8>,\n",
       " <matplotlib.lines.Line2D at 0x1955bdb8c08>,\n",
       " <matplotlib.lines.Line2D at 0x1955bdb8e48>,\n",
       " <matplotlib.lines.Line2D at 0x1955bdb8f08>,\n",
       " <matplotlib.lines.Line2D at 0x1955bdbb308>,\n",
       " <matplotlib.lines.Line2D at 0x1955bdbb548>,\n",
       " <matplotlib.lines.Line2D at 0x1955bdbb788>,\n",
       " <matplotlib.lines.Line2D at 0x1955bdbb9c8>,\n",
       " <matplotlib.lines.Line2D at 0x1955bdbbc08>,\n",
       " <matplotlib.lines.Line2D at 0x1955bdbbe48>,\n",
       " <matplotlib.lines.Line2D at 0x1955bdbbf08>,\n",
       " <matplotlib.lines.Line2D at 0x1955bdbe308>,\n",
       " <matplotlib.lines.Line2D at 0x1955bdbe548>,\n",
       " <matplotlib.lines.Line2D at 0x1955bdbe788>,\n",
       " <matplotlib.lines.Line2D at 0x1955bdbe9c8>,\n",
       " <matplotlib.lines.Line2D at 0x1955bdbec08>,\n",
       " <matplotlib.lines.Line2D at 0x1955bdbee48>,\n",
       " <matplotlib.lines.Line2D at 0x1955bdbef08>,\n",
       " <matplotlib.lines.Line2D at 0x1955bdc1308>,\n",
       " <matplotlib.lines.Line2D at 0x1955bdc1548>,\n",
       " <matplotlib.lines.Line2D at 0x1955bdc1788>,\n",
       " <matplotlib.lines.Line2D at 0x1955bdc1a08>,\n",
       " <matplotlib.lines.Line2D at 0x1955bdc1c88>,\n",
       " <matplotlib.lines.Line2D at 0x1955bdc1f08>,\n",
       " <matplotlib.lines.Line2D at 0x1955bdc31c8>,\n",
       " <matplotlib.lines.Line2D at 0x1955bdc3448>,\n",
       " <matplotlib.lines.Line2D at 0x1955bdc36c8>,\n",
       " <matplotlib.lines.Line2D at 0x1955bdc3948>,\n",
       " <matplotlib.lines.Line2D at 0x1955bdc3bc8>,\n",
       " <matplotlib.lines.Line2D at 0x1955bdc3e48>,\n",
       " <matplotlib.lines.Line2D at 0x1955bdc3f48>,\n",
       " <matplotlib.lines.Line2D at 0x1955bdc7388>,\n",
       " <matplotlib.lines.Line2D at 0x1955bdc7608>,\n",
       " <matplotlib.lines.Line2D at 0x1955bdc7888>,\n",
       " <matplotlib.lines.Line2D at 0x1955bdc7b08>,\n",
       " <matplotlib.lines.Line2D at 0x1955bdc7d88>,\n",
       " <matplotlib.lines.Line2D at 0x1955bdc7e88>,\n",
       " <matplotlib.lines.Line2D at 0x1955bdca2c8>,\n",
       " <matplotlib.lines.Line2D at 0x1955bdca548>,\n",
       " <matplotlib.lines.Line2D at 0x1955bdca7c8>,\n",
       " <matplotlib.lines.Line2D at 0x1955bdcaa48>,\n",
       " <matplotlib.lines.Line2D at 0x1955bdcacc8>,\n",
       " <matplotlib.lines.Line2D at 0x1955bdcaf48>,\n",
       " <matplotlib.lines.Line2D at 0x1955bdcd208>,\n",
       " <matplotlib.lines.Line2D at 0x1955bdcd488>,\n",
       " <matplotlib.lines.Line2D at 0x1955bdcd708>,\n",
       " <matplotlib.lines.Line2D at 0x1955bdcd988>,\n",
       " <matplotlib.lines.Line2D at 0x1955bdcdc08>,\n",
       " <matplotlib.lines.Line2D at 0x1955bdcde88>,\n",
       " <matplotlib.lines.Line2D at 0x1955bdcdf88>,\n",
       " <matplotlib.lines.Line2D at 0x1955bdcf3c8>,\n",
       " <matplotlib.lines.Line2D at 0x1955bdcf648>,\n",
       " <matplotlib.lines.Line2D at 0x1955bdcf8c8>,\n",
       " <matplotlib.lines.Line2D at 0x1955bdcfb48>,\n",
       " <matplotlib.lines.Line2D at 0x1955bdcfdc8>,\n",
       " <matplotlib.lines.Line2D at 0x1955bdcfec8>,\n",
       " <matplotlib.lines.Line2D at 0x1955bdd3308>,\n",
       " <matplotlib.lines.Line2D at 0x1955bdd3588>,\n",
       " <matplotlib.lines.Line2D at 0x1955bdd3808>,\n",
       " <matplotlib.lines.Line2D at 0x1955bdd3a88>,\n",
       " <matplotlib.lines.Line2D at 0x1955bdd3d08>,\n",
       " <matplotlib.lines.Line2D at 0x1955bdd3f88>,\n",
       " <matplotlib.lines.Line2D at 0x1955bdd6248>]"
      ]
     },
     "execution_count": 23,
     "metadata": {},
     "output_type": "execute_result"
    },
    {
     "data": {
      "image/png": "[encoded data removed]",
      "text/plain": [
       "<Figure size 432x288 with 1 Axes>"
      ]
     },
     "metadata": {
      "needs_background": "light"
     },
     "output_type": "display_data"
    }
   ],
   "source": [
    "# 6. Plot first five simulated portfolios\n",
    "plots.plot(sim[list(range(100))])"
   ]
  },
  {
   "cell_type": "code",
   "execution_count": 24,
   "metadata": {},
   "outputs": [
    {
     "data": {
      "text/plain": [
       "0.0"
      ]
     },
     "execution_count": 24,
     "metadata": {},
     "output_type": "execute_result"
    }
   ],
   "source": [
    "# 10. Calculate probability of seeing a specific ending_value or less, \n",
    "# for example get close to the 75%ile, or $1,000,000\n",
    "\n",
    "len(ending_values[ending_values<50000]) / len(ending_values)"
   ]
  },
  {
   "cell_type": "code",
   "execution_count": 25,
   "metadata": {},
   "outputs": [
    {
     "data": {
      "text/plain": [
       "0.0"
      ]
     },
     "execution_count": 25,
     "metadata": {},
     "output_type": "execute_result"
    }
   ],
   "source": [
    "# 11. You can't really get a point estimate, but you can get a range ending values\n",
    "\n",
    "len(ending_values[(ending_values> 40000) & (ending_values< 60000)]) /len(ending_values)"
   ]
  },
  {
   "cell_type": "code",
   "execution_count": 26,
   "metadata": {},
   "outputs": [
    {
     "name": "stdout",
     "output_type": "stream",
     "text": [
      "       5%-ile:  11284296.5495\n",
      "      10%-ile:  12622733.152999999\n",
      "      15%-ile:  13549770.9785\n",
      "      25%-ile:  15018876.565000001\n",
      "      75%-ile:  22569882.2\n",
      "      85%-ile:  25100667.4045\n",
      "      90%-ile:  27054237.696000002\n",
      "      95%-ile:  30155218.056500006\n"
     ]
    }
   ],
   "source": [
    "# 12. You can get a more comprehensive table of percentiles easily using numpy's percentile function\n",
    "\n",
    "p_tiles = np.percentile(ending_values,[5,10,15,25,75,85,90, 95])\n",
    "\n",
    "for p in range(len(p_tiles)):\n",
    "    l = [5,10,15,25,75,85,90,95]\n",
    "    print( \"{}%-ile: \".format(l[p]).rjust(15),\"{}\".format(p_tiles[p]))"
   ]
  },
  {
   "cell_type": "code",
   "execution_count": 27,
   "metadata": {},
   "outputs": [
    {
     "data": {
      "image/png": "[encoded data removed]",
      "text/plain": [
       "<Figure size 504x504 with 1 Axes>"
      ]
     },
     "metadata": {
      "needs_background": "light"
     },
     "output_type": "display_data"
    }
   ],
   "source": [
    "# Creating dataset \n",
    "Pertile = ['5%-ile', '10%-ile', '15%-ile', '25%-ile', '75%-ile', '85%-ile', '90%-ile','95%-ile'] \n",
    "  \n",
    "data = p_tiles \n",
    "  \n",
    "# Creating plot \n",
    "fig = plt.figure(figsize =(7, 7)) \n",
    "plt.bar(Pertile, data) \n",
    "  \n",
    "# show plot \n",
    "plt.show() "
   ]
  },
  {
   "cell_type": "code",
   "execution_count": null,
   "metadata": {},
   "outputs": [],
   "source": []
  }
 ],
 "metadata": {
  "kernelspec": {
   "display_name": "Python 3",
   "language": "python",
   "name": "python3"
  },
  "language_info": {
   "codemirror_mode": {
    "name": "ipython",
    "version": 3
   },
   "file_extension": ".py",
   "mimetype": "text/x-python",
   "name": "python",
   "nbconvert_exporter": "python",
   "pygments_lexer": "ipython3",
   "version": "3.7.7"
  }
 },
 "nbformat": 4,
 "nbformat_minor": 4
}
